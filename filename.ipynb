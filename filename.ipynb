{
 "cells": [
  {
   "cell_type": "code",
   "execution_count": 7,
   "id": "c3f13290-d0a5-47e6-96e6-a12145497277",
   "metadata": {},
   "outputs": [],
   "source": [
    "import os\n",
    "import csv\n",
    "\n",
    "csv_file_path = \"C:/Users/Admin/Documents/FinalYearProject/label_data.csv\"\n",
    "\n",
    "# Open the CSV file in append mode\n",
    "with open(csv_file_path, 'a', newline='') as f:\n",
    "    w = csv.writer(f)\n",
    "\n",
    "    # Iterate through the files in the specified directory\n",
    "    for path, dirs, files in os.walk(\"C:/Users/Admin/Documents/FinalYearProject/newData/dataset/normal\"):\n",
    "        for filename in files:\n",
    "            # Write each filename as a row in the CSV file\n",
    "            w.writerow([filename])\n"
   ]
  },
  {
   "cell_type": "code",
   "execution_count": null,
   "id": "79b05500-babd-4143-9dac-1830ed4deb4d",
   "metadata": {},
   "outputs": [],
   "source": []
  },
  {
   "cell_type": "code",
   "execution_count": null,
   "id": "6825f2c4-c0e6-4e40-9e5c-a89ca9bdd667",
   "metadata": {},
   "outputs": [],
   "source": []
  }
 ],
 "metadata": {
  "kernelspec": {
   "display_name": "Python 3 (ipykernel)",
   "language": "python",
   "name": "python3"
  },
  "language_info": {
   "codemirror_mode": {
    "name": "ipython",
    "version": 3
   },
   "file_extension": ".py",
   "mimetype": "text/x-python",
   "name": "python",
   "nbconvert_exporter": "python",
   "pygments_lexer": "ipython3",
   "version": "3.11.0"
  }
 },
 "nbformat": 4,
 "nbformat_minor": 5
}
